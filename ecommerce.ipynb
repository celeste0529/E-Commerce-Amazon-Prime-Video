{
 "cells": [
  {
   "cell_type": "markdown",
   "metadata": {},
   "source": [
    "# E-Commerce Project: Amazon Prime Video"
   ]
  },
  {
   "cell_type": "code",
   "execution_count": 1,
   "metadata": {},
   "outputs": [],
   "source": [
    "import pandas as pd\n",
    "import numpy as np\n",
    "import matplotlib.pyplot as plt\n",
    "import seaborn as sns\n",
    "from sklearn.preprocessing import MinMaxScaler\n",
    "from sklearn.preprocessing import StandardScaler\n",
    "from sklearn.model_selection import train_test_split\n",
    "from sklearn.linear_model import LinearRegression, Lasso, Ridge\n",
    "from sklearn.metrics import mean_squared_error, r2_score\n",
    "from math import sqrt\n",
    "from sklearn.preprocessing import PolynomialFeatures\n",
    "from sklearn.ensemble import RandomForestRegressor\n",
    "from sklearn.model_selection import GridSearchCV\n",
    "from sklearn.metrics import  mean_squared_error\n",
    "import warnings\n",
    "warnings.filterwarnings('ignore')"
   ]
  },
  {
   "cell_type": "code",
   "execution_count": 2,
   "metadata": {
    "scrolled": false
   },
   "outputs": [
    {
     "data": {
      "text/html": [
       "<div>\n",
       "<style scoped>\n",
       "    .dataframe tbody tr th:only-of-type {\n",
       "        vertical-align: middle;\n",
       "    }\n",
       "\n",
       "    .dataframe tbody tr th {\n",
       "        vertical-align: top;\n",
       "    }\n",
       "\n",
       "    .dataframe thead th {\n",
       "        text-align: right;\n",
       "    }\n",
       "</style>\n",
       "<table border=\"1\" class=\"dataframe\">\n",
       "  <thead>\n",
       "    <tr style=\"text-align: right;\">\n",
       "      <th></th>\n",
       "      <th>cvt_per_day</th>\n",
       "      <th>weighted_categorical_position</th>\n",
       "      <th>weighted_horizontal_poition</th>\n",
       "      <th>import_id</th>\n",
       "      <th>release_year</th>\n",
       "      <th>genres</th>\n",
       "      <th>imdb_votes</th>\n",
       "      <th>budget</th>\n",
       "      <th>boxoffice</th>\n",
       "      <th>imdb_rating</th>\n",
       "      <th>duration_in_mins</th>\n",
       "      <th>metacritic_score</th>\n",
       "      <th>awards</th>\n",
       "      <th>mpaa</th>\n",
       "      <th>star_category</th>\n",
       "    </tr>\n",
       "    <tr>\n",
       "      <th>video_id</th>\n",
       "      <th></th>\n",
       "      <th></th>\n",
       "      <th></th>\n",
       "      <th></th>\n",
       "      <th></th>\n",
       "      <th></th>\n",
       "      <th></th>\n",
       "      <th></th>\n",
       "      <th></th>\n",
       "      <th></th>\n",
       "      <th></th>\n",
       "      <th></th>\n",
       "      <th></th>\n",
       "      <th></th>\n",
       "      <th></th>\n",
       "    </tr>\n",
       "  </thead>\n",
       "  <tbody>\n",
       "    <tr>\n",
       "      <th>385504</th>\n",
       "      <td>307127.605608</td>\n",
       "      <td>1</td>\n",
       "      <td>3</td>\n",
       "      <td>lionsgate</td>\n",
       "      <td>2013</td>\n",
       "      <td>Action,Thriller,Drama</td>\n",
       "      <td>69614</td>\n",
       "      <td>15000000</td>\n",
       "      <td>42930462</td>\n",
       "      <td>6.5</td>\n",
       "      <td>112.301017</td>\n",
       "      <td>51</td>\n",
       "      <td>other award</td>\n",
       "      <td>PG-13</td>\n",
       "      <td>1.710000</td>\n",
       "    </tr>\n",
       "    <tr>\n",
       "      <th>300175</th>\n",
       "      <td>270338.426375</td>\n",
       "      <td>1</td>\n",
       "      <td>3</td>\n",
       "      <td>lionsgate</td>\n",
       "      <td>2013</td>\n",
       "      <td>Comedy,Crime,Thriller</td>\n",
       "      <td>46705</td>\n",
       "      <td>15000000</td>\n",
       "      <td>3301046</td>\n",
       "      <td>6.5</td>\n",
       "      <td>94.983250</td>\n",
       "      <td>41</td>\n",
       "      <td>no award</td>\n",
       "      <td>R</td>\n",
       "      <td>3.250000</td>\n",
       "    </tr>\n",
       "    <tr>\n",
       "      <th>361899</th>\n",
       "      <td>256165.867446</td>\n",
       "      <td>1</td>\n",
       "      <td>3</td>\n",
       "      <td>other</td>\n",
       "      <td>2012</td>\n",
       "      <td>Crime,Drama</td>\n",
       "      <td>197596</td>\n",
       "      <td>26000000</td>\n",
       "      <td>37397291</td>\n",
       "      <td>7.3</td>\n",
       "      <td>115.763675</td>\n",
       "      <td>58</td>\n",
       "      <td>other award</td>\n",
       "      <td>R</td>\n",
       "      <td>2.646667</td>\n",
       "    </tr>\n",
       "    <tr>\n",
       "      <th>308314</th>\n",
       "      <td>196622.720996</td>\n",
       "      <td>3</td>\n",
       "      <td>4</td>\n",
       "      <td>lionsgate</td>\n",
       "      <td>2008</td>\n",
       "      <td>Thriller,Drama,War,Documentary,Mystery,Action</td>\n",
       "      <td>356339</td>\n",
       "      <td>15000000</td>\n",
       "      <td>15700000</td>\n",
       "      <td>7.6</td>\n",
       "      <td>130.703583</td>\n",
       "      <td>94</td>\n",
       "      <td>Oscar</td>\n",
       "      <td>R</td>\n",
       "      <td>1.666667</td>\n",
       "    </tr>\n",
       "    <tr>\n",
       "      <th>307201</th>\n",
       "      <td>159841.652064</td>\n",
       "      <td>1</td>\n",
       "      <td>3</td>\n",
       "      <td>lionsgate</td>\n",
       "      <td>2013</td>\n",
       "      <td>Crime,Thriller,Mystery,Documentary</td>\n",
       "      <td>46720</td>\n",
       "      <td>27220000</td>\n",
       "      <td>8551228</td>\n",
       "      <td>6.4</td>\n",
       "      <td>105.545533</td>\n",
       "      <td>37</td>\n",
       "      <td>other award</td>\n",
       "      <td>R</td>\n",
       "      <td>3.066667</td>\n",
       "    </tr>\n",
       "  </tbody>\n",
       "</table>\n",
       "</div>"
      ],
      "text/plain": [
       "            cvt_per_day  weighted_categorical_position  \\\n",
       "video_id                                                 \n",
       "385504    307127.605608                              1   \n",
       "300175    270338.426375                              1   \n",
       "361899    256165.867446                              1   \n",
       "308314    196622.720996                              3   \n",
       "307201    159841.652064                              1   \n",
       "\n",
       "          weighted_horizontal_poition  import_id  release_year  \\\n",
       "video_id                                                         \n",
       "385504                              3  lionsgate          2013   \n",
       "300175                              3  lionsgate          2013   \n",
       "361899                              3      other          2012   \n",
       "308314                              4  lionsgate          2008   \n",
       "307201                              3  lionsgate          2013   \n",
       "\n",
       "                                                 genres  imdb_votes    budget  \\\n",
       "video_id                                                                        \n",
       "385504                            Action,Thriller,Drama       69614  15000000   \n",
       "300175                            Comedy,Crime,Thriller       46705  15000000   \n",
       "361899                                      Crime,Drama      197596  26000000   \n",
       "308314    Thriller,Drama,War,Documentary,Mystery,Action      356339  15000000   \n",
       "307201               Crime,Thriller,Mystery,Documentary       46720  27220000   \n",
       "\n",
       "          boxoffice  imdb_rating  duration_in_mins  metacritic_score  \\\n",
       "video_id                                                               \n",
       "385504     42930462          6.5        112.301017                51   \n",
       "300175      3301046          6.5         94.983250                41   \n",
       "361899     37397291          7.3        115.763675                58   \n",
       "308314     15700000          7.6        130.703583                94   \n",
       "307201      8551228          6.4        105.545533                37   \n",
       "\n",
       "               awards   mpaa  star_category  \n",
       "video_id                                     \n",
       "385504    other award  PG-13       1.710000  \n",
       "300175       no award      R       3.250000  \n",
       "361899    other award      R       2.646667  \n",
       "308314          Oscar      R       1.666667  \n",
       "307201    other award      R       3.066667  "
      ]
     },
     "execution_count": 2,
     "metadata": {},
     "output_type": "execute_result"
    }
   ],
   "source": [
    "df = pd.read_csv('TVdata.txt', header = 0, index_col = [0])\n",
    "df.head()"
   ]
  },
  {
   "cell_type": "code",
   "execution_count": 3,
   "metadata": {},
   "outputs": [
    {
     "data": {
      "text/plain": [
       "(4226, 15)"
      ]
     },
     "execution_count": 3,
     "metadata": {},
     "output_type": "execute_result"
    }
   ],
   "source": [
    "df.shape    # dataset: 4226 row, 15 column"
   ]
  },
  {
   "cell_type": "code",
   "execution_count": 4,
   "metadata": {},
   "outputs": [
    {
     "name": "stdout",
     "output_type": "stream",
     "text": [
      "<class 'pandas.core.frame.DataFrame'>\n",
      "Int64Index: 4226 entries, 385504 to 11229\n",
      "Data columns (total 15 columns):\n",
      "cvt_per_day                      4226 non-null float64\n",
      "weighted_categorical_position    4226 non-null int64\n",
      "weighted_horizontal_poition      4226 non-null int64\n",
      "import_id                        4226 non-null object\n",
      "release_year                     4226 non-null int64\n",
      "genres                           4226 non-null object\n",
      "imdb_votes                       4226 non-null int64\n",
      "budget                           4226 non-null int64\n",
      "boxoffice                        4226 non-null int64\n",
      "imdb_rating                      4226 non-null float64\n",
      "duration_in_mins                 4226 non-null float64\n",
      "metacritic_score                 4226 non-null int64\n",
      "awards                           4226 non-null object\n",
      "mpaa                             4226 non-null object\n",
      "star_category                    4226 non-null float64\n",
      "dtypes: float64(4), int64(7), object(4)\n",
      "memory usage: 528.2+ KB\n"
     ]
    }
   ],
   "source": [
    "df.info()"
   ]
  },
  {
   "cell_type": "markdown",
   "metadata": {},
   "source": [
    "### check duplication data"
   ]
  },
  {
   "cell_type": "code",
   "execution_count": 5,
   "metadata": {},
   "outputs": [
    {
     "name": "stdout",
     "output_type": "stream",
     "text": [
      "no duplicated index\n"
     ]
    }
   ],
   "source": [
    "if df.index.duplicated().sum() == 0:\n",
    "    print('no duplicated index')"
   ]
  },
  {
   "cell_type": "markdown",
   "metadata": {},
   "source": [
    "### check missing value"
   ]
  },
  {
   "cell_type": "code",
   "execution_count": 6,
   "metadata": {},
   "outputs": [
    {
     "data": {
      "text/plain": [
       "cvt_per_day                      0\n",
       "weighted_categorical_position    0\n",
       "weighted_horizontal_poition      0\n",
       "import_id                        0\n",
       "release_year                     0\n",
       "genres                           0\n",
       "imdb_votes                       0\n",
       "budget                           0\n",
       "boxoffice                        0\n",
       "imdb_rating                      0\n",
       "duration_in_mins                 0\n",
       "metacritic_score                 0\n",
       "awards                           0\n",
       "mpaa                             0\n",
       "star_category                    0\n",
       "dtype: int64"
      ]
     },
     "execution_count": 6,
     "metadata": {},
     "output_type": "execute_result"
    }
   ],
   "source": [
    "df.isna().sum()    # no null value --> no missing value?"
   ]
  },
  {
   "cell_type": "code",
   "execution_count": 7,
   "metadata": {
    "scrolled": false
   },
   "outputs": [
    {
     "data": {
      "text/html": [
       "<div>\n",
       "<style scoped>\n",
       "    .dataframe tbody tr th:only-of-type {\n",
       "        vertical-align: middle;\n",
       "    }\n",
       "\n",
       "    .dataframe tbody tr th {\n",
       "        vertical-align: top;\n",
       "    }\n",
       "\n",
       "    .dataframe thead th {\n",
       "        text-align: right;\n",
       "    }\n",
       "</style>\n",
       "<table border=\"1\" class=\"dataframe\">\n",
       "  <thead>\n",
       "    <tr style=\"text-align: right;\">\n",
       "      <th></th>\n",
       "      <th>cvt_per_day</th>\n",
       "      <th>weighted_categorical_position</th>\n",
       "      <th>weighted_horizontal_poition</th>\n",
       "      <th>release_year</th>\n",
       "      <th>imdb_votes</th>\n",
       "      <th>budget</th>\n",
       "      <th>boxoffice</th>\n",
       "      <th>imdb_rating</th>\n",
       "      <th>duration_in_mins</th>\n",
       "      <th>metacritic_score</th>\n",
       "      <th>star_category</th>\n",
       "    </tr>\n",
       "  </thead>\n",
       "  <tbody>\n",
       "    <tr>\n",
       "      <th>count</th>\n",
       "      <td>4226.000000</td>\n",
       "      <td>4226.000000</td>\n",
       "      <td>4226.000000</td>\n",
       "      <td>4226.000000</td>\n",
       "      <td>4226.000000</td>\n",
       "      <td>4.226000e+03</td>\n",
       "      <td>4.226000e+03</td>\n",
       "      <td>4226.000000</td>\n",
       "      <td>4226.000000</td>\n",
       "      <td>4226.000000</td>\n",
       "      <td>4226.000000</td>\n",
       "    </tr>\n",
       "    <tr>\n",
       "      <th>mean</th>\n",
       "      <td>4218.630239</td>\n",
       "      <td>7.782537</td>\n",
       "      <td>28.103644</td>\n",
       "      <td>2001.056791</td>\n",
       "      <td>6462.924042</td>\n",
       "      <td>2.150743e+06</td>\n",
       "      <td>2.536338e+06</td>\n",
       "      <td>5.257099</td>\n",
       "      <td>89.556123</td>\n",
       "      <td>15.973734</td>\n",
       "      <td>0.954651</td>\n",
       "    </tr>\n",
       "    <tr>\n",
       "      <th>std</th>\n",
       "      <td>13036.079964</td>\n",
       "      <td>6.134183</td>\n",
       "      <td>11.863649</td>\n",
       "      <td>17.496849</td>\n",
       "      <td>31596.006790</td>\n",
       "      <td>7.176604e+06</td>\n",
       "      <td>8.243516e+06</td>\n",
       "      <td>2.122810</td>\n",
       "      <td>21.086183</td>\n",
       "      <td>26.205217</td>\n",
       "      <td>0.955045</td>\n",
       "    </tr>\n",
       "    <tr>\n",
       "      <th>min</th>\n",
       "      <td>2.187625</td>\n",
       "      <td>1.000000</td>\n",
       "      <td>1.000000</td>\n",
       "      <td>1916.000000</td>\n",
       "      <td>0.000000</td>\n",
       "      <td>0.000000e+00</td>\n",
       "      <td>0.000000e+00</td>\n",
       "      <td>0.000000</td>\n",
       "      <td>4.037250</td>\n",
       "      <td>0.000000</td>\n",
       "      <td>0.000000</td>\n",
       "    </tr>\n",
       "    <tr>\n",
       "      <th>25%</th>\n",
       "      <td>351.168776</td>\n",
       "      <td>4.000000</td>\n",
       "      <td>20.000000</td>\n",
       "      <td>1998.000000</td>\n",
       "      <td>81.000000</td>\n",
       "      <td>0.000000e+00</td>\n",
       "      <td>0.000000e+00</td>\n",
       "      <td>4.300000</td>\n",
       "      <td>82.601712</td>\n",
       "      <td>0.000000</td>\n",
       "      <td>0.000000</td>\n",
       "    </tr>\n",
       "    <tr>\n",
       "      <th>50%</th>\n",
       "      <td>1193.499989</td>\n",
       "      <td>6.000000</td>\n",
       "      <td>28.000000</td>\n",
       "      <td>2008.000000</td>\n",
       "      <td>535.000000</td>\n",
       "      <td>0.000000e+00</td>\n",
       "      <td>0.000000e+00</td>\n",
       "      <td>5.800000</td>\n",
       "      <td>90.730308</td>\n",
       "      <td>0.000000</td>\n",
       "      <td>1.000000</td>\n",
       "    </tr>\n",
       "    <tr>\n",
       "      <th>75%</th>\n",
       "      <td>3356.788816</td>\n",
       "      <td>9.000000</td>\n",
       "      <td>36.000000</td>\n",
       "      <td>2012.000000</td>\n",
       "      <td>3053.000000</td>\n",
       "      <td>1.500000e+06</td>\n",
       "      <td>0.000000e+00</td>\n",
       "      <td>6.800000</td>\n",
       "      <td>99.500312</td>\n",
       "      <td>41.000000</td>\n",
       "      <td>1.666667</td>\n",
       "    </tr>\n",
       "    <tr>\n",
       "      <th>max</th>\n",
       "      <td>307127.605608</td>\n",
       "      <td>41.000000</td>\n",
       "      <td>70.000000</td>\n",
       "      <td>2017.000000</td>\n",
       "      <td>948630.000000</td>\n",
       "      <td>1.070000e+08</td>\n",
       "      <td>1.842088e+08</td>\n",
       "      <td>10.000000</td>\n",
       "      <td>246.016767</td>\n",
       "      <td>100.000000</td>\n",
       "      <td>4.000000</td>\n",
       "    </tr>\n",
       "  </tbody>\n",
       "</table>\n",
       "</div>"
      ],
      "text/plain": [
       "         cvt_per_day  weighted_categorical_position  \\\n",
       "count    4226.000000                    4226.000000   \n",
       "mean     4218.630239                       7.782537   \n",
       "std     13036.079964                       6.134183   \n",
       "min         2.187625                       1.000000   \n",
       "25%       351.168776                       4.000000   \n",
       "50%      1193.499989                       6.000000   \n",
       "75%      3356.788816                       9.000000   \n",
       "max    307127.605608                      41.000000   \n",
       "\n",
       "       weighted_horizontal_poition  release_year     imdb_votes        budget  \\\n",
       "count                  4226.000000   4226.000000    4226.000000  4.226000e+03   \n",
       "mean                     28.103644   2001.056791    6462.924042  2.150743e+06   \n",
       "std                      11.863649     17.496849   31596.006790  7.176604e+06   \n",
       "min                       1.000000   1916.000000       0.000000  0.000000e+00   \n",
       "25%                      20.000000   1998.000000      81.000000  0.000000e+00   \n",
       "50%                      28.000000   2008.000000     535.000000  0.000000e+00   \n",
       "75%                      36.000000   2012.000000    3053.000000  1.500000e+06   \n",
       "max                      70.000000   2017.000000  948630.000000  1.070000e+08   \n",
       "\n",
       "          boxoffice  imdb_rating  duration_in_mins  metacritic_score  \\\n",
       "count  4.226000e+03  4226.000000       4226.000000       4226.000000   \n",
       "mean   2.536338e+06     5.257099         89.556123         15.973734   \n",
       "std    8.243516e+06     2.122810         21.086183         26.205217   \n",
       "min    0.000000e+00     0.000000          4.037250          0.000000   \n",
       "25%    0.000000e+00     4.300000         82.601712          0.000000   \n",
       "50%    0.000000e+00     5.800000         90.730308          0.000000   \n",
       "75%    0.000000e+00     6.800000         99.500312         41.000000   \n",
       "max    1.842088e+08    10.000000        246.016767        100.000000   \n",
       "\n",
       "       star_category  \n",
       "count    4226.000000  \n",
       "mean        0.954651  \n",
       "std         0.955045  \n",
       "min         0.000000  \n",
       "25%         0.000000  \n",
       "50%         1.000000  \n",
       "75%         1.666667  \n",
       "max         4.000000  "
      ]
     },
     "execution_count": 7,
     "metadata": {},
     "output_type": "execute_result"
    }
   ],
   "source": [
    "df.describe()         # There are lots of zero ----> should be missing vlaue"
   ]
  },
  {
   "cell_type": "code",
   "execution_count": 8,
   "metadata": {},
   "outputs": [
    {
     "data": {
      "text/plain": [
       "(3242, 15)"
      ]
     },
     "execution_count": 8,
     "metadata": {},
     "output_type": "execute_result"
    }
   ],
   "source": [
    "# missing data: 4 features have over 25% of missing values --> budget, boxoffice, metacritic_score, star_category\n",
    "# in those 4 features, there are 3242 samples have at least one missing data \n",
    "df[(df['budget'] == 0)|(df['boxoffice'] == 0)|(df['metacritic_score'] == 0)|(df['star_category'] == 0)].shape"
   ]
  },
  {
   "cell_type": "code",
   "execution_count": 9,
   "metadata": {},
   "outputs": [
    {
     "data": {
      "text/plain": [
       "(344, 15)"
      ]
     },
     "execution_count": 9,
     "metadata": {},
     "output_type": "execute_result"
    }
   ],
   "source": [
    "# missing data: imdb_votes & imdb_rating\n",
    "# in those 2 features, there are 344 samples have at least one missing data\n",
    "df[(df['imdb_votes'] == 0) | (df['imdb_rating'] == 0)].shape"
   ]
  },
  {
   "cell_type": "markdown",
   "metadata": {},
   "source": [
    "### cvt_per_day feature"
   ]
  },
  {
   "cell_type": "code",
   "execution_count": 10,
   "metadata": {},
   "outputs": [
    {
     "data": {
      "image/png": "[encoded data removed]",
      "text/plain": [
       "<Figure size 432x288 with 1 Axes>"
      ]
     },
     "metadata": {
      "needs_background": "light"
     },
     "output_type": "display_data"
    }
   ],
   "source": [
    "cvt = df['cvt_per_day']\n",
    "plt.hist(cvt, bins = range(0,5000, 30), label = 'cvt_per_day', density = True, alpha = 0.5)\n",
    "plt.title('Histograms of cvt_per_day before data processing')\n",
    "plt.xlabel('cvt per day')\n",
    "plt.ylabel('density')\n",
    "plt.show()"
   ]
  },
  {
   "cell_type": "markdown",
   "metadata": {},
   "source": [
    "### correlation among numerica features"
   ]
  },
  {
   "cell_type": "code",
   "execution_count": 11,
   "metadata": {},
   "outputs": [
    {
     "data": {
      "text/plain": [
       "<matplotlib.axes._subplots.AxesSubplot at 0x1a1e3b31d0>"
      ]
     },
     "execution_count": 11,
     "metadata": {},
     "output_type": "execute_result"
    },
    {
     "data": {
      "image/png": "[encoded data removed]",
      "text/plain": [
       "<Figure size 432x288 with 2 Axes>"
      ]
     },
     "metadata": {
      "needs_background": "light"
     },
     "output_type": "display_data"
    }
   ],
   "source": [
    "corr = df[['cvt_per_day','weighted_categorical_position','weighted_horizontal_poition','release_year','imdb_votes',\n",
    "           'budget','boxoffice','imdb_rating','duration_in_mins','metacritic_score','star_category']].corr()\n",
    "sns.heatmap(corr, cmap = 'YlGnBu')"
   ]
  },
  {
   "cell_type": "markdown",
   "metadata": {},
   "source": [
    "### distribution of standard categorical features"
   ]
  },
  {
   "cell_type": "code",
   "execution_count": 12,
   "metadata": {},
   "outputs": [
    {
     "data": {
      "image/png": "[encoded data removed]",
      "text/plain": [
       "<Figure size 432x288 with 1 Axes>"
      ]
     },
     "metadata": {
      "needs_background": "light"
     },
     "output_type": "display_data"
    },
    {
     "name": "stdout",
     "output_type": "stream",
     "text": [
      "other        2963\n",
      "lionsgate     677\n",
      "mgm           445\n",
      "paramount     141\n",
      "Name: import_id, dtype: int64\n"
     ]
    },
    {
     "data": {
      "image/png": "[encoded data removed]",
      "text/plain": [
       "<Figure size 432x288 with 1 Axes>"
      ]
     },
     "metadata": {
      "needs_background": "light"
     },
     "output_type": "display_data"
    },
    {
     "name": "stdout",
     "output_type": "stream",
     "text": [
      "NotRated    2158\n",
      "R           1158\n",
      "PG-13        426\n",
      "PG           353\n",
      "G            125\n",
      "NC-17          6\n",
      "Name: mpaa, dtype: int64\n"
     ]
    },
    {
     "data": {
      "image/png": "[encoded data removed]",
      "text/plain": [
       "<Figure size 432x288 with 1 Axes>"
      ]
     },
     "metadata": {
      "needs_background": "light"
     },
     "output_type": "display_data"
    },
    {
     "name": "stdout",
     "output_type": "stream",
     "text": [
      "no award        2569\n",
      "other award     1453\n",
      "Oscar            141\n",
      "Golden Globe      44\n",
      "BAFTA             19\n",
      "Name: awards, dtype: int64\n"
     ]
    }
   ],
   "source": [
    "sns.stripplot(x = 'import_id', y = 'cvt_per_day', data = df, jitter = True)\n",
    "plt.show()\n",
    "print(df['import_id'].value_counts())\n",
    "\n",
    "sns.stripplot(x = 'mpaa', y = 'cvt_per_day', data = df, jitter = True)\n",
    "plt.show()\n",
    "print(df['mpaa'].value_counts())\n",
    "\n",
    "sns.stripplot(x = 'awards', y = 'cvt_per_day', data = df, jitter = True)\n",
    "plt.show()\n",
    "print(df['awards'].value_counts())"
   ]
  },
  {
   "cell_type": "markdown",
   "metadata": {},
   "source": [
    "### distribution of splited genres"
   ]
  },
  {
   "cell_type": "code",
   "execution_count": 13,
   "metadata": {},
   "outputs": [
    {
     "data": {
      "text/plain": [
       "video_id\n",
       "385504                            Action,Thriller,Drama\n",
       "300175                            Comedy,Crime,Thriller\n",
       "361899                                      Crime,Drama\n",
       "308314    Thriller,Drama,War,Documentary,Mystery,Action\n",
       "307201               Crime,Thriller,Mystery,Documentary\n",
       "Name: genres, dtype: object"
      ]
     },
     "execution_count": 13,
     "metadata": {},
     "output_type": "execute_result"
    }
   ],
   "source": [
    "df['genres'].head()"
   ]
  },
  {
   "cell_type": "code",
   "execution_count": 14,
   "metadata": {},
   "outputs": [
    {
     "data": {
      "image/png": "[encoded data removed]",
      "text/plain": [
       "<Figure size 432x288 with 1 Axes>"
      ]
     },
     "metadata": {
      "needs_background": "light"
     },
     "output_type": "display_data"
    },
    {
     "name": "stdout",
     "output_type": "stream",
     "text": [
      "Action                    739\n",
      "Adult                       3\n",
      "Adventure                 363\n",
      "Animation                 129\n",
      "Anime                      11\n",
      "Comedy                   1184\n",
      "Crime                     437\n",
      "Documentary               671\n",
      "Drama                    1677\n",
      "Fantasy                   243\n",
      "Foreign/International      64\n",
      "Holiday                     1\n",
      "Horror                    762\n",
      "Independent               393\n",
      "Kids & Family             280\n",
      "LGBT                        2\n",
      "Lifestyle                   7\n",
      "Music                     171\n",
      "Musicals                   68\n",
      "Mystery                   375\n",
      "Reality                     9\n",
      "Romance                   591\n",
      "Sci-Fi                    363\n",
      "Sport                      77\n",
      "Thriller                  879\n",
      "War                       102\n",
      "Western                   102\n",
      "dtype: int64\n"
     ]
    }
   ],
   "source": [
    "gen_split = df['genres'].str.get_dummies(sep = ',').sum()\n",
    "gen_split.sort_values(ascending = False).plot.bar()\n",
    "plt.title('distribution of splited genres')\n",
    "plt.xlabel('genres')\n",
    "plt.ylabel('count')\n",
    "plt.show()\n",
    "print(gen_split)"
   ]
  },
  {
   "cell_type": "markdown",
   "metadata": {},
   "source": [
    "### distribution of release_year"
   ]
  },
  {
   "cell_type": "code",
   "execution_count": 15,
   "metadata": {
    "scrolled": false
   },
   "outputs": [
    {
     "data": {
      "image/png": "[encoded data removed]",
      "text/plain": [
       "<Figure size 432x288 with 1 Axes>"
      ]
     },
     "metadata": {
      "needs_background": "light"
     },
     "output_type": "display_data"
    }
   ],
   "source": [
    "# release_year should be bucketed based on the release_year range\n",
    "plt.hist(df['release_year'].values, bins = range(1910, 2017,1), label = 'release-year', alpha = 0.5, density = True)\n",
    "plt.legend(loc = 'upper left')\n",
    "plt.title('Histograms of release_year before data processing')\n",
    "plt.xlabel('release_year')\n",
    "plt.ylabel('density')\n",
    "plt.show()"
   ]
  },
  {
   "cell_type": "markdown",
   "metadata": {},
   "source": [
    "## feature preprocessing"
   ]
  },
  {
   "cell_type": "code",
   "execution_count": 16,
   "metadata": {},
   "outputs": [
    {
     "data": {
      "text/html": [
       "<div>\n",
       "<style scoped>\n",
       "    .dataframe tbody tr th:only-of-type {\n",
       "        vertical-align: middle;\n",
       "    }\n",
       "\n",
       "    .dataframe tbody tr th {\n",
       "        vertical-align: top;\n",
       "    }\n",
       "\n",
       "    .dataframe thead th {\n",
       "        text-align: right;\n",
       "    }\n",
       "</style>\n",
       "<table border=\"1\" class=\"dataframe\">\n",
       "  <thead>\n",
       "    <tr style=\"text-align: right;\">\n",
       "      <th></th>\n",
       "      <th>Action</th>\n",
       "      <th>Adventure</th>\n",
       "      <th>Animation</th>\n",
       "      <th>Comedy</th>\n",
       "      <th>Crime</th>\n",
       "      <th>Documentary</th>\n",
       "      <th>Drama</th>\n",
       "      <th>Fantasy</th>\n",
       "      <th>Foreign/International</th>\n",
       "      <th>Horror</th>\n",
       "      <th>...</th>\n",
       "      <th>Music</th>\n",
       "      <th>Musicals</th>\n",
       "      <th>Mystery</th>\n",
       "      <th>Romance</th>\n",
       "      <th>Sci-Fi</th>\n",
       "      <th>Sport</th>\n",
       "      <th>Thriller</th>\n",
       "      <th>War</th>\n",
       "      <th>Western</th>\n",
       "      <th>other_genres</th>\n",
       "    </tr>\n",
       "    <tr>\n",
       "      <th>video_id</th>\n",
       "      <th></th>\n",
       "      <th></th>\n",
       "      <th></th>\n",
       "      <th></th>\n",
       "      <th></th>\n",
       "      <th></th>\n",
       "      <th></th>\n",
       "      <th></th>\n",
       "      <th></th>\n",
       "      <th></th>\n",
       "      <th></th>\n",
       "      <th></th>\n",
       "      <th></th>\n",
       "      <th></th>\n",
       "      <th></th>\n",
       "      <th></th>\n",
       "      <th></th>\n",
       "      <th></th>\n",
       "      <th></th>\n",
       "      <th></th>\n",
       "      <th></th>\n",
       "    </tr>\n",
       "  </thead>\n",
       "  <tbody>\n",
       "    <tr>\n",
       "      <th>385504</th>\n",
       "      <td>1</td>\n",
       "      <td>0</td>\n",
       "      <td>0</td>\n",
       "      <td>0</td>\n",
       "      <td>0</td>\n",
       "      <td>0</td>\n",
       "      <td>1</td>\n",
       "      <td>0</td>\n",
       "      <td>0</td>\n",
       "      <td>0</td>\n",
       "      <td>...</td>\n",
       "      <td>0</td>\n",
       "      <td>0</td>\n",
       "      <td>0</td>\n",
       "      <td>0</td>\n",
       "      <td>0</td>\n",
       "      <td>0</td>\n",
       "      <td>1</td>\n",
       "      <td>0</td>\n",
       "      <td>0</td>\n",
       "      <td>0</td>\n",
       "    </tr>\n",
       "    <tr>\n",
       "      <th>300175</th>\n",
       "      <td>0</td>\n",
       "      <td>0</td>\n",
       "      <td>0</td>\n",
       "      <td>1</td>\n",
       "      <td>1</td>\n",
       "      <td>0</td>\n",
       "      <td>0</td>\n",
       "      <td>0</td>\n",
       "      <td>0</td>\n",
       "      <td>0</td>\n",
       "      <td>...</td>\n",
       "      <td>0</td>\n",
       "      <td>0</td>\n",
       "      <td>0</td>\n",
       "      <td>0</td>\n",
       "      <td>0</td>\n",
       "      <td>0</td>\n",
       "      <td>1</td>\n",
       "      <td>0</td>\n",
       "      <td>0</td>\n",
       "      <td>0</td>\n",
       "    </tr>\n",
       "    <tr>\n",
       "      <th>361899</th>\n",
       "      <td>0</td>\n",
       "      <td>0</td>\n",
       "      <td>0</td>\n",
       "      <td>0</td>\n",
       "      <td>1</td>\n",
       "      <td>0</td>\n",
       "      <td>1</td>\n",
       "      <td>0</td>\n",
       "      <td>0</td>\n",
       "      <td>0</td>\n",
       "      <td>...</td>\n",
       "      <td>0</td>\n",
       "      <td>0</td>\n",
       "      <td>0</td>\n",
       "      <td>0</td>\n",
       "      <td>0</td>\n",
       "      <td>0</td>\n",
       "      <td>0</td>\n",
       "      <td>0</td>\n",
       "      <td>0</td>\n",
       "      <td>0</td>\n",
       "    </tr>\n",
       "    <tr>\n",
       "      <th>308314</th>\n",
       "      <td>1</td>\n",
       "      <td>0</td>\n",
       "      <td>0</td>\n",
       "      <td>0</td>\n",
       "      <td>0</td>\n",
       "      <td>1</td>\n",
       "      <td>1</td>\n",
       "      <td>0</td>\n",
       "      <td>0</td>\n",
       "      <td>0</td>\n",
       "      <td>...</td>\n",
       "      <td>0</td>\n",
       "      <td>0</td>\n",
       "      <td>1</td>\n",
       "      <td>0</td>\n",
       "      <td>0</td>\n",
       "      <td>0</td>\n",
       "      <td>1</td>\n",
       "      <td>1</td>\n",
       "      <td>0</td>\n",
       "      <td>0</td>\n",
       "    </tr>\n",
       "    <tr>\n",
       "      <th>307201</th>\n",
       "      <td>0</td>\n",
       "      <td>0</td>\n",
       "      <td>0</td>\n",
       "      <td>0</td>\n",
       "      <td>1</td>\n",
       "      <td>1</td>\n",
       "      <td>0</td>\n",
       "      <td>0</td>\n",
       "      <td>0</td>\n",
       "      <td>0</td>\n",
       "      <td>...</td>\n",
       "      <td>0</td>\n",
       "      <td>0</td>\n",
       "      <td>1</td>\n",
       "      <td>0</td>\n",
       "      <td>0</td>\n",
       "      <td>0</td>\n",
       "      <td>1</td>\n",
       "      <td>0</td>\n",
       "      <td>0</td>\n",
       "      <td>0</td>\n",
       "    </tr>\n",
       "  </tbody>\n",
       "</table>\n",
       "<p>5 rows × 22 columns</p>\n",
       "</div>"
      ],
      "text/plain": [
       "          Action  Adventure  Animation  Comedy  Crime  Documentary  Drama  \\\n",
       "video_id                                                                    \n",
       "385504         1          0          0       0      0            0      1   \n",
       "300175         0          0          0       1      1            0      0   \n",
       "361899         0          0          0       0      1            0      1   \n",
       "308314         1          0          0       0      0            1      1   \n",
       "307201         0          0          0       0      1            1      0   \n",
       "\n",
       "          Fantasy  Foreign/International  Horror  ...  Music  Musicals  \\\n",
       "video_id                                          ...                    \n",
       "385504          0                      0       0  ...      0         0   \n",
       "300175          0                      0       0  ...      0         0   \n",
       "361899          0                      0       0  ...      0         0   \n",
       "308314          0                      0       0  ...      0         0   \n",
       "307201          0                      0       0  ...      0         0   \n",
       "\n",
       "          Mystery  Romance  Sci-Fi  Sport  Thriller  War  Western  \\\n",
       "video_id                                                            \n",
       "385504          0        0       0      0         1    0        0   \n",
       "300175          0        0       0      0         1    0        0   \n",
       "361899          0        0       0      0         0    0        0   \n",
       "308314          1        0       0      0         1    1        0   \n",
       "307201          1        0       0      0         1    0        0   \n",
       "\n",
       "          other_genres  \n",
       "video_id                \n",
       "385504               0  \n",
       "300175               0  \n",
       "361899               0  \n",
       "308314               0  \n",
       "307201               0  \n",
       "\n",
       "[5 rows x 22 columns]"
      ]
     },
     "execution_count": 16,
     "metadata": {},
     "output_type": "execute_result"
    }
   ],
   "source": [
    "# convert 'genres' into dummy variables\n",
    "# based on the graph of distribution of splited genres, combine the last 6 genres into one as other_genres\n",
    "d_genres = df['genres'].str.get_dummies(sep = ',').astype(np.int64)\n",
    "d_genres['other_genres'] = d_genres['Anime']|d_genres['Reality']|d_genres['Lifestyle']|d_genres['Adult']|d_genres['LGBT']|d_genres['Holiday']\n",
    "d_genres.drop(['Anime', 'Reality','Lifestyle', 'Adult','LGBT','Holiday'], inplace=True, axis=1)\n",
    "d_genres.head()"
   ]
  },
  {
   "cell_type": "code",
   "execution_count": 17,
   "metadata": {},
   "outputs": [
    {
     "data": {
      "text/html": [
       "<div>\n",
       "<style scoped>\n",
       "    .dataframe tbody tr th:only-of-type {\n",
       "        vertical-align: middle;\n",
       "    }\n",
       "\n",
       "    .dataframe tbody tr th {\n",
       "        vertical-align: top;\n",
       "    }\n",
       "\n",
       "    .dataframe thead th {\n",
       "        text-align: right;\n",
       "    }\n",
       "</style>\n",
       "<table border=\"1\" class=\"dataframe\">\n",
       "  <thead>\n",
       "    <tr style=\"text-align: right;\">\n",
       "      <th></th>\n",
       "      <th>1916-1974</th>\n",
       "      <th>1974-1991</th>\n",
       "      <th>1991-2001</th>\n",
       "      <th>2001-2006</th>\n",
       "      <th>2006-2008</th>\n",
       "      <th>2008-2010</th>\n",
       "      <th>2010-2012</th>\n",
       "      <th>2012-2013</th>\n",
       "      <th>2013-2014</th>\n",
       "      <th>2014-2017</th>\n",
       "    </tr>\n",
       "    <tr>\n",
       "      <th>video_id</th>\n",
       "      <th></th>\n",
       "      <th></th>\n",
       "      <th></th>\n",
       "      <th></th>\n",
       "      <th></th>\n",
       "      <th></th>\n",
       "      <th></th>\n",
       "      <th></th>\n",
       "      <th></th>\n",
       "      <th></th>\n",
       "    </tr>\n",
       "  </thead>\n",
       "  <tbody>\n",
       "    <tr>\n",
       "      <th>385504</th>\n",
       "      <td>0</td>\n",
       "      <td>0</td>\n",
       "      <td>0</td>\n",
       "      <td>0</td>\n",
       "      <td>0</td>\n",
       "      <td>0</td>\n",
       "      <td>0</td>\n",
       "      <td>1</td>\n",
       "      <td>0</td>\n",
       "      <td>0</td>\n",
       "    </tr>\n",
       "    <tr>\n",
       "      <th>300175</th>\n",
       "      <td>0</td>\n",
       "      <td>0</td>\n",
       "      <td>0</td>\n",
       "      <td>0</td>\n",
       "      <td>0</td>\n",
       "      <td>0</td>\n",
       "      <td>0</td>\n",
       "      <td>1</td>\n",
       "      <td>0</td>\n",
       "      <td>0</td>\n",
       "    </tr>\n",
       "    <tr>\n",
       "      <th>361899</th>\n",
       "      <td>0</td>\n",
       "      <td>0</td>\n",
       "      <td>0</td>\n",
       "      <td>0</td>\n",
       "      <td>0</td>\n",
       "      <td>0</td>\n",
       "      <td>1</td>\n",
       "      <td>0</td>\n",
       "      <td>0</td>\n",
       "      <td>0</td>\n",
       "    </tr>\n",
       "    <tr>\n",
       "      <th>308314</th>\n",
       "      <td>0</td>\n",
       "      <td>0</td>\n",
       "      <td>0</td>\n",
       "      <td>0</td>\n",
       "      <td>1</td>\n",
       "      <td>0</td>\n",
       "      <td>0</td>\n",
       "      <td>0</td>\n",
       "      <td>0</td>\n",
       "      <td>0</td>\n",
       "    </tr>\n",
       "    <tr>\n",
       "      <th>307201</th>\n",
       "      <td>0</td>\n",
       "      <td>0</td>\n",
       "      <td>0</td>\n",
       "      <td>0</td>\n",
       "      <td>0</td>\n",
       "      <td>0</td>\n",
       "      <td>0</td>\n",
       "      <td>1</td>\n",
       "      <td>0</td>\n",
       "      <td>0</td>\n",
       "    </tr>\n",
       "  </tbody>\n",
       "</table>\n",
       "</div>"
      ],
      "text/plain": [
       "          1916-1974  1974-1991  1991-2001  2001-2006  2006-2008  2008-2010  \\\n",
       "video_id                                                                     \n",
       "385504            0          0          0          0          0          0   \n",
       "300175            0          0          0          0          0          0   \n",
       "361899            0          0          0          0          0          0   \n",
       "308314            0          0          0          0          1          0   \n",
       "307201            0          0          0          0          0          0   \n",
       "\n",
       "          2010-2012  2012-2013  2013-2014  2014-2017  \n",
       "video_id                                              \n",
       "385504            0          1          0          0  \n",
       "300175            0          1          0          0  \n",
       "361899            1          0          0          0  \n",
       "308314            0          0          0          0  \n",
       "307201            0          1          0          0  "
      ]
     },
     "execution_count": 17,
     "metadata": {},
     "output_type": "execute_result"
    }
   ],
   "source": [
    "# bin release_year and convert into dummies\n",
    "bin_year = [1916, 1974, 1991, 2001, 2006, 2008, 2010, 2012, 2013, 2014, 2017]\n",
    "year_range = ['1916-1974', '1974-1991', '1991-2001', '2001-2006','2006-2008','2008-2010','2010-2012','2012-2013',\n",
    "              '2013-2014','2014-2017']\n",
    "year_bin = pd.cut(df['release_year'], bin_year, labels=year_range)\n",
    "d_year = pd.get_dummies(year_bin).astype(np.int64)\n",
    "d_year.head()"
   ]
  },
  {
   "cell_type": "code",
   "execution_count": 18,
   "metadata": {},
   "outputs": [
    {
     "data": {
      "text/html": [
       "<div>\n",
       "<style scoped>\n",
       "    .dataframe tbody tr th:only-of-type {\n",
       "        vertical-align: middle;\n",
       "    }\n",
       "\n",
       "    .dataframe tbody tr th {\n",
       "        vertical-align: top;\n",
       "    }\n",
       "\n",
       "    .dataframe thead th {\n",
       "        text-align: right;\n",
       "    }\n",
       "</style>\n",
       "<table border=\"1\" class=\"dataframe\">\n",
       "  <thead>\n",
       "    <tr style=\"text-align: right;\">\n",
       "      <th></th>\n",
       "      <th>cvt_per_day</th>\n",
       "      <th>weighted_categorical_position</th>\n",
       "      <th>weighted_horizontal_poition</th>\n",
       "      <th>imdb_votes</th>\n",
       "      <th>budget</th>\n",
       "      <th>boxoffice</th>\n",
       "      <th>imdb_rating</th>\n",
       "      <th>duration_in_mins</th>\n",
       "      <th>metacritic_score</th>\n",
       "      <th>star_category</th>\n",
       "      <th>...</th>\n",
       "      <th>mpaa_NC-17</th>\n",
       "      <th>mpaa_NotRated</th>\n",
       "      <th>mpaa_PG</th>\n",
       "      <th>mpaa_PG-13</th>\n",
       "      <th>mpaa_R</th>\n",
       "      <th>awards_BAFTA</th>\n",
       "      <th>awards_Golden Globe</th>\n",
       "      <th>awards_Oscar</th>\n",
       "      <th>awards_no award</th>\n",
       "      <th>awards_other award</th>\n",
       "    </tr>\n",
       "    <tr>\n",
       "      <th>video_id</th>\n",
       "      <th></th>\n",
       "      <th></th>\n",
       "      <th></th>\n",
       "      <th></th>\n",
       "      <th></th>\n",
       "      <th></th>\n",
       "      <th></th>\n",
       "      <th></th>\n",
       "      <th></th>\n",
       "      <th></th>\n",
       "      <th></th>\n",
       "      <th></th>\n",
       "      <th></th>\n",
       "      <th></th>\n",
       "      <th></th>\n",
       "      <th></th>\n",
       "      <th></th>\n",
       "      <th></th>\n",
       "      <th></th>\n",
       "      <th></th>\n",
       "      <th></th>\n",
       "    </tr>\n",
       "  </thead>\n",
       "  <tbody>\n",
       "    <tr>\n",
       "      <th>385504</th>\n",
       "      <td>307127</td>\n",
       "      <td>1</td>\n",
       "      <td>3</td>\n",
       "      <td>69614</td>\n",
       "      <td>15000000</td>\n",
       "      <td>42930462</td>\n",
       "      <td>6</td>\n",
       "      <td>112</td>\n",
       "      <td>51</td>\n",
       "      <td>1</td>\n",
       "      <td>...</td>\n",
       "      <td>0</td>\n",
       "      <td>0</td>\n",
       "      <td>0</td>\n",
       "      <td>1</td>\n",
       "      <td>0</td>\n",
       "      <td>0</td>\n",
       "      <td>0</td>\n",
       "      <td>0</td>\n",
       "      <td>0</td>\n",
       "      <td>1</td>\n",
       "    </tr>\n",
       "    <tr>\n",
       "      <th>300175</th>\n",
       "      <td>270338</td>\n",
       "      <td>1</td>\n",
       "      <td>3</td>\n",
       "      <td>46705</td>\n",
       "      <td>15000000</td>\n",
       "      <td>3301046</td>\n",
       "      <td>6</td>\n",
       "      <td>94</td>\n",
       "      <td>41</td>\n",
       "      <td>3</td>\n",
       "      <td>...</td>\n",
       "      <td>0</td>\n",
       "      <td>0</td>\n",
       "      <td>0</td>\n",
       "      <td>0</td>\n",
       "      <td>1</td>\n",
       "      <td>0</td>\n",
       "      <td>0</td>\n",
       "      <td>0</td>\n",
       "      <td>1</td>\n",
       "      <td>0</td>\n",
       "    </tr>\n",
       "    <tr>\n",
       "      <th>361899</th>\n",
       "      <td>256165</td>\n",
       "      <td>1</td>\n",
       "      <td>3</td>\n",
       "      <td>197596</td>\n",
       "      <td>26000000</td>\n",
       "      <td>37397291</td>\n",
       "      <td>7</td>\n",
       "      <td>115</td>\n",
       "      <td>58</td>\n",
       "      <td>2</td>\n",
       "      <td>...</td>\n",
       "      <td>0</td>\n",
       "      <td>0</td>\n",
       "      <td>0</td>\n",
       "      <td>0</td>\n",
       "      <td>1</td>\n",
       "      <td>0</td>\n",
       "      <td>0</td>\n",
       "      <td>0</td>\n",
       "      <td>0</td>\n",
       "      <td>1</td>\n",
       "    </tr>\n",
       "    <tr>\n",
       "      <th>308314</th>\n",
       "      <td>196622</td>\n",
       "      <td>3</td>\n",
       "      <td>4</td>\n",
       "      <td>356339</td>\n",
       "      <td>15000000</td>\n",
       "      <td>15700000</td>\n",
       "      <td>7</td>\n",
       "      <td>130</td>\n",
       "      <td>94</td>\n",
       "      <td>1</td>\n",
       "      <td>...</td>\n",
       "      <td>0</td>\n",
       "      <td>0</td>\n",
       "      <td>0</td>\n",
       "      <td>0</td>\n",
       "      <td>1</td>\n",
       "      <td>0</td>\n",
       "      <td>0</td>\n",
       "      <td>1</td>\n",
       "      <td>0</td>\n",
       "      <td>0</td>\n",
       "    </tr>\n",
       "    <tr>\n",
       "      <th>307201</th>\n",
       "      <td>159841</td>\n",
       "      <td>1</td>\n",
       "      <td>3</td>\n",
       "      <td>46720</td>\n",
       "      <td>27220000</td>\n",
       "      <td>8551228</td>\n",
       "      <td>6</td>\n",
       "      <td>105</td>\n",
       "      <td>37</td>\n",
       "      <td>3</td>\n",
       "      <td>...</td>\n",
       "      <td>0</td>\n",
       "      <td>0</td>\n",
       "      <td>0</td>\n",
       "      <td>0</td>\n",
       "      <td>1</td>\n",
       "      <td>0</td>\n",
       "      <td>0</td>\n",
       "      <td>0</td>\n",
       "      <td>0</td>\n",
       "      <td>1</td>\n",
       "    </tr>\n",
       "  </tbody>\n",
       "</table>\n",
       "<p>5 rows × 25 columns</p>\n",
       "</div>"
      ],
      "text/plain": [
       "          cvt_per_day  weighted_categorical_position  \\\n",
       "video_id                                               \n",
       "385504         307127                              1   \n",
       "300175         270338                              1   \n",
       "361899         256165                              1   \n",
       "308314         196622                              3   \n",
       "307201         159841                              1   \n",
       "\n",
       "          weighted_horizontal_poition  imdb_votes    budget  boxoffice  \\\n",
       "video_id                                                                 \n",
       "385504                              3       69614  15000000   42930462   \n",
       "300175                              3       46705  15000000    3301046   \n",
       "361899                              3      197596  26000000   37397291   \n",
       "308314                              4      356339  15000000   15700000   \n",
       "307201                              3       46720  27220000    8551228   \n",
       "\n",
       "          imdb_rating  duration_in_mins  metacritic_score  star_category  ...  \\\n",
       "video_id                                                                  ...   \n",
       "385504              6               112                51              1  ...   \n",
       "300175              6                94                41              3  ...   \n",
       "361899              7               115                58              2  ...   \n",
       "308314              7               130                94              1  ...   \n",
       "307201              6               105                37              3  ...   \n",
       "\n",
       "          mpaa_NC-17  mpaa_NotRated  mpaa_PG  mpaa_PG-13  mpaa_R  \\\n",
       "video_id                                                           \n",
       "385504             0              0        0           1       0   \n",
       "300175             0              0        0           0       1   \n",
       "361899             0              0        0           0       1   \n",
       "308314             0              0        0           0       1   \n",
       "307201             0              0        0           0       1   \n",
       "\n",
       "          awards_BAFTA  awards_Golden Globe  awards_Oscar  awards_no award  \\\n",
       "video_id                                                                     \n",
       "385504               0                    0             0                0   \n",
       "300175               0                    0             0                1   \n",
       "361899               0                    0             0                0   \n",
       "308314               0                    0             1                0   \n",
       "307201               0                    0             0                0   \n",
       "\n",
       "          awards_other award  \n",
       "video_id                      \n",
       "385504                     1  \n",
       "300175                     0  \n",
       "361899                     1  \n",
       "308314                     0  \n",
       "307201                     1  \n",
       "\n",
       "[5 rows x 25 columns]"
      ]
     },
     "execution_count": 18,
     "metadata": {},
     "output_type": "execute_result"
    }
   ],
   "source": [
    "df.drop(['genres','release_year'], axis = 1, inplace = True)\n",
    "df0 = pd.get_dummies(df,columns = ['import_id','mpaa','awards']).astype(np.int64)\n",
    "df0.head()"
   ]
  },
  {
   "cell_type": "code",
   "execution_count": 19,
   "metadata": {},
   "outputs": [
    {
     "data": {
      "text/html": [
       "<div>\n",
       "<style scoped>\n",
       "    .dataframe tbody tr th:only-of-type {\n",
       "        vertical-align: middle;\n",
       "    }\n",
       "\n",
       "    .dataframe tbody tr th {\n",
       "        vertical-align: top;\n",
       "    }\n",
       "\n",
       "    .dataframe thead th {\n",
       "        text-align: right;\n",
       "    }\n",
       "</style>\n",
       "<table border=\"1\" class=\"dataframe\">\n",
       "  <thead>\n",
       "    <tr style=\"text-align: right;\">\n",
       "      <th></th>\n",
       "      <th>cvt_per_day</th>\n",
       "      <th>weighted_categorical_position</th>\n",
       "      <th>weighted_horizontal_poition</th>\n",
       "      <th>imdb_votes</th>\n",
       "      <th>budget</th>\n",
       "      <th>boxoffice</th>\n",
       "      <th>imdb_rating</th>\n",
       "      <th>duration_in_mins</th>\n",
       "      <th>metacritic_score</th>\n",
       "      <th>star_category</th>\n",
       "      <th>...</th>\n",
       "      <th>1916-1974</th>\n",
       "      <th>1974-1991</th>\n",
       "      <th>1991-2001</th>\n",
       "      <th>2001-2006</th>\n",
       "      <th>2006-2008</th>\n",
       "      <th>2008-2010</th>\n",
       "      <th>2010-2012</th>\n",
       "      <th>2012-2013</th>\n",
       "      <th>2013-2014</th>\n",
       "      <th>2014-2017</th>\n",
       "    </tr>\n",
       "    <tr>\n",
       "      <th>video_id</th>\n",
       "      <th></th>\n",
       "      <th></th>\n",
       "      <th></th>\n",
       "      <th></th>\n",
       "      <th></th>\n",
       "      <th></th>\n",
       "      <th></th>\n",
       "      <th></th>\n",
       "      <th></th>\n",
       "      <th></th>\n",
       "      <th></th>\n",
       "      <th></th>\n",
       "      <th></th>\n",
       "      <th></th>\n",
       "      <th></th>\n",
       "      <th></th>\n",
       "      <th></th>\n",
       "      <th></th>\n",
       "      <th></th>\n",
       "      <th></th>\n",
       "      <th></th>\n",
       "    </tr>\n",
       "  </thead>\n",
       "  <tbody>\n",
       "    <tr>\n",
       "      <th>385504</th>\n",
       "      <td>307127</td>\n",
       "      <td>1</td>\n",
       "      <td>3</td>\n",
       "      <td>69614</td>\n",
       "      <td>15000000</td>\n",
       "      <td>42930462</td>\n",
       "      <td>6</td>\n",
       "      <td>112</td>\n",
       "      <td>51</td>\n",
       "      <td>1</td>\n",
       "      <td>...</td>\n",
       "      <td>0</td>\n",
       "      <td>0</td>\n",
       "      <td>0</td>\n",
       "      <td>0</td>\n",
       "      <td>0</td>\n",
       "      <td>0</td>\n",
       "      <td>0</td>\n",
       "      <td>1</td>\n",
       "      <td>0</td>\n",
       "      <td>0</td>\n",
       "    </tr>\n",
       "    <tr>\n",
       "      <th>300175</th>\n",
       "      <td>270338</td>\n",
       "      <td>1</td>\n",
       "      <td>3</td>\n",
       "      <td>46705</td>\n",
       "      <td>15000000</td>\n",
       "      <td>3301046</td>\n",
       "      <td>6</td>\n",
       "      <td>94</td>\n",
       "      <td>41</td>\n",
       "      <td>3</td>\n",
       "      <td>...</td>\n",
       "      <td>0</td>\n",
       "      <td>0</td>\n",
       "      <td>0</td>\n",
       "      <td>0</td>\n",
       "      <td>0</td>\n",
       "      <td>0</td>\n",
       "      <td>0</td>\n",
       "      <td>1</td>\n",
       "      <td>0</td>\n",
       "      <td>0</td>\n",
       "    </tr>\n",
       "    <tr>\n",
       "      <th>361899</th>\n",
       "      <td>256165</td>\n",
       "      <td>1</td>\n",
       "      <td>3</td>\n",
       "      <td>197596</td>\n",
       "      <td>26000000</td>\n",
       "      <td>37397291</td>\n",
       "      <td>7</td>\n",
       "      <td>115</td>\n",
       "      <td>58</td>\n",
       "      <td>2</td>\n",
       "      <td>...</td>\n",
       "      <td>0</td>\n",
       "      <td>0</td>\n",
       "      <td>0</td>\n",
       "      <td>0</td>\n",
       "      <td>0</td>\n",
       "      <td>0</td>\n",
       "      <td>1</td>\n",
       "      <td>0</td>\n",
       "      <td>0</td>\n",
       "      <td>0</td>\n",
       "    </tr>\n",
       "    <tr>\n",
       "      <th>308314</th>\n",
       "      <td>196622</td>\n",
       "      <td>3</td>\n",
       "      <td>4</td>\n",
       "      <td>356339</td>\n",
       "      <td>15000000</td>\n",
       "      <td>15700000</td>\n",
       "      <td>7</td>\n",
       "      <td>130</td>\n",
       "      <td>94</td>\n",
       "      <td>1</td>\n",
       "      <td>...</td>\n",
       "      <td>0</td>\n",
       "      <td>0</td>\n",
       "      <td>0</td>\n",
       "      <td>0</td>\n",
       "      <td>1</td>\n",
       "      <td>0</td>\n",
       "      <td>0</td>\n",
       "      <td>0</td>\n",
       "      <td>0</td>\n",
       "      <td>0</td>\n",
       "    </tr>\n",
       "    <tr>\n",
       "      <th>307201</th>\n",
       "      <td>159841</td>\n",
       "      <td>1</td>\n",
       "      <td>3</td>\n",
       "      <td>46720</td>\n",
       "      <td>27220000</td>\n",
       "      <td>8551228</td>\n",
       "      <td>6</td>\n",
       "      <td>105</td>\n",
       "      <td>37</td>\n",
       "      <td>3</td>\n",
       "      <td>...</td>\n",
       "      <td>0</td>\n",
       "      <td>0</td>\n",
       "      <td>0</td>\n",
       "      <td>0</td>\n",
       "      <td>0</td>\n",
       "      <td>0</td>\n",
       "      <td>0</td>\n",
       "      <td>1</td>\n",
       "      <td>0</td>\n",
       "      <td>0</td>\n",
       "    </tr>\n",
       "  </tbody>\n",
       "</table>\n",
       "<p>5 rows × 57 columns</p>\n",
       "</div>"
      ],
      "text/plain": [
       "          cvt_per_day  weighted_categorical_position  \\\n",
       "video_id                                               \n",
       "385504         307127                              1   \n",
       "300175         270338                              1   \n",
       "361899         256165                              1   \n",
       "308314         196622                              3   \n",
       "307201         159841                              1   \n",
       "\n",
       "          weighted_horizontal_poition  imdb_votes    budget  boxoffice  \\\n",
       "video_id                                                                 \n",
       "385504                              3       69614  15000000   42930462   \n",
       "300175                              3       46705  15000000    3301046   \n",
       "361899                              3      197596  26000000   37397291   \n",
       "308314                              4      356339  15000000   15700000   \n",
       "307201                              3       46720  27220000    8551228   \n",
       "\n",
       "          imdb_rating  duration_in_mins  metacritic_score  star_category  ...  \\\n",
       "video_id                                                                  ...   \n",
       "385504              6               112                51              1  ...   \n",
       "300175              6                94                41              3  ...   \n",
       "361899              7               115                58              2  ...   \n",
       "308314              7               130                94              1  ...   \n",
       "307201              6               105                37              3  ...   \n",
       "\n",
       "          1916-1974  1974-1991  1991-2001  2001-2006  2006-2008  2008-2010  \\\n",
       "video_id                                                                     \n",
       "385504            0          0          0          0          0          0   \n",
       "300175            0          0          0          0          0          0   \n",
       "361899            0          0          0          0          0          0   \n",
       "308314            0          0          0          0          1          0   \n",
       "307201            0          0          0          0          0          0   \n",
       "\n",
       "          2010-2012  2012-2013  2013-2014  2014-2017  \n",
       "video_id                                              \n",
       "385504            0          1          0          0  \n",
       "300175            0          1          0          0  \n",
       "361899            1          0          0          0  \n",
       "308314            0          0          0          0  \n",
       "307201            0          1          0          0  \n",
       "\n",
       "[5 rows x 57 columns]"
      ]
     },
     "execution_count": 19,
     "metadata": {},
     "output_type": "execute_result"
    }
   ],
   "source": [
    "df1 = pd.concat([df0, d_genres, d_year], axis=1)\n",
    "df1.head()"
   ]
  },
  {
   "cell_type": "code",
   "execution_count": 20,
   "metadata": {},
   "outputs": [
    {
     "data": {
      "text/plain": [
       "Index(['cvt_per_day', 'weighted_categorical_position',\n",
       "       'weighted_horizontal_poition', 'imdb_votes', 'budget', 'boxoffice',\n",
       "       'imdb_rating', 'duration_in_mins', 'metacritic_score', 'star_category',\n",
       "       'import_id_lionsgate', 'import_id_mgm', 'import_id_other',\n",
       "       'import_id_paramount', 'mpaa_G', 'mpaa_NC-17', 'mpaa_NotRated',\n",
       "       'mpaa_PG', 'mpaa_PG-13', 'mpaa_R', 'awards_BAFTA',\n",
       "       'awards_Golden Globe', 'awards_Oscar', 'awards_no award',\n",
       "       'awards_other award', 'Action', 'Adventure', 'Animation', 'Comedy',\n",
       "       'Crime', 'Documentary', 'Drama', 'Fantasy', 'Foreign/International',\n",
       "       'Horror', 'Independent', 'Kids & Family', 'Music', 'Musicals',\n",
       "       'Mystery', 'Romance', 'Sci-Fi', 'Sport', 'Thriller', 'War', 'Western',\n",
       "       'other_genres', '1916-1974', '1974-1991', '1991-2001', '2001-2006',\n",
       "       '2006-2008', '2008-2010', '2010-2012', '2012-2013', '2013-2014',\n",
       "       '2014-2017'],\n",
       "      dtype='object')"
      ]
     },
     "execution_count": 20,
     "metadata": {},
     "output_type": "execute_result"
    }
   ],
   "source": [
    "# 53 features in total, show below\n",
    "col = df1.columns\n",
    "col"
   ]
  },
  {
   "cell_type": "markdown",
   "metadata": {},
   "source": [
    "### Missing Value"
   ]
  },
  {
   "cell_type": "code",
   "execution_count": 21,
   "metadata": {
    "scrolled": false
   },
   "outputs": [
    {
     "data": {
      "image/png": "[encoded data removed]",
      "text/plain": [
       "<Figure size 1440x720 with 4 Axes>"
      ]
     },
     "metadata": {
      "needs_background": "light"
     },
     "output_type": "display_data"
    }
   ],
   "source": [
    "# distribution of features with large amount of missing value\n",
    "df1[['budget','boxoffice','metacritic_score', 'star_category','imdb_votes', 'imdb_rating']] = df1[['budget','boxoffice','metacritic_score', 'star_category','imdb_votes', 'imdb_rating']].replace(0, np.nan)\n",
    "\n",
    "fig, a = plt.subplots(2,2,figsize = [20,10])\n",
    "\n",
    "a[0][0].hist(df1['budget'], bins = range(0, 50000000, 1000000), density = True, alpha = 0.5)\n",
    "a[0][0].set_xlabel('budget')\n",
    "\n",
    "a[0][1].hist(df1['boxoffice'], bins = range(0, 50000000, 1000000), density = True, alpha = 0.5)\n",
    "a[0][1].set_xlabel('boxoffice')\n",
    "\n",
    "a[1][0].hist(df1['metacritic_score'], bins = range(0, 100, 5), density = True, alpha = 0.5)\n",
    "a[1][0].set_xlabel('metacritic_score')\n",
    "\n",
    "a[1][1].hist(df1['star_category'], density = True, alpha = 0.5)\n",
    "a[1][1].set_xlabel('star_category')\n",
    "\n",
    "plt.show()"
   ]
  },
  {
   "cell_type": "code",
   "execution_count": 22,
   "metadata": {
    "scrolled": false
   },
   "outputs": [
    {
     "data": {
      "image/png": "[encoded data removed]",
      "text/plain": [
       "<Figure size 1440x432 with 2 Axes>"
      ]
     },
     "metadata": {
      "needs_background": "light"
     },
     "output_type": "display_data"
    }
   ],
   "source": [
    "# distribution of features with large amount of missing value\n",
    "fig, a = plt.subplots(1,2,figsize = [20,6])\n",
    "\n",
    "a[0].hist(df1['imdb_votes'], bins = range(0, 3000, 100), density = True, alpha = 0.5)\n",
    "a[0].set_xlabel('imdb_votes')\n",
    "\n",
    "a[1].hist(df1['imdb_rating'], bins = range(0, 10, 1), density = True, alpha = 0.5)\n",
    "a[1].set_xlabel('imdb_rating')\n",
    "\n",
    "plt.show()"
   ]
  },
  {
   "cell_type": "code",
   "execution_count": 23,
   "metadata": {},
   "outputs": [
    {
     "data": {
      "text/plain": [
       "(4226, 57)"
      ]
     },
     "execution_count": 23,
     "metadata": {},
     "output_type": "execute_result"
    }
   ],
   "source": [
    "# solve missing value problem:\n",
    "# budget and boxoffice, impute by median value ---> because they have long tails\n",
    "# metacritic_score and star_category, impute by mean value\n",
    "# drop NA rows in two features: imdb_votes & imdb_rating?\n",
    "# or impute imdb_votes by median, impute imdb_rating by mean\n",
    "\n",
    "TV = df1.copy()\n",
    "TV['boxoffice'] = TV['boxoffice'].fillna(TV['boxoffice'].median())\n",
    "TV['metacritic_score'] = TV['metacritic_score'].fillna(TV['metacritic_score'].median())\n",
    "TV['star_category'] = TV['star_category'].fillna(TV['star_category'].mean())\n",
    "TV['budget'] = TV['budget'].fillna(TV['budget'].mean())\n",
    "TV['imdb_votes'] = TV['imdb_votes'].fillna(TV['imdb_votes'].median())\n",
    "TV['imdb_rating'] = TV['imdb_rating'].fillna(TV['imdb_rating'].mean())\n",
    "TV.shape"
   ]
  },
  {
   "cell_type": "markdown",
   "metadata": {},
   "source": [
    "### Feature Scaling"
   ]
  },
  {
   "cell_type": "code",
   "execution_count": 24,
   "metadata": {},
   "outputs": [
    {
     "data": {
      "text/html": [
       "<div>\n",
       "<style scoped>\n",
       "    .dataframe tbody tr th:only-of-type {\n",
       "        vertical-align: middle;\n",
       "    }\n",
       "\n",
       "    .dataframe tbody tr th {\n",
       "        vertical-align: top;\n",
       "    }\n",
       "\n",
       "    .dataframe thead th {\n",
       "        text-align: right;\n",
       "    }\n",
       "</style>\n",
       "<table border=\"1\" class=\"dataframe\">\n",
       "  <thead>\n",
       "    <tr style=\"text-align: right;\">\n",
       "      <th></th>\n",
       "      <th>cvt_per_day</th>\n",
       "      <th>weighted_categorical_position</th>\n",
       "      <th>weighted_horizontal_poition</th>\n",
       "      <th>imdb_votes</th>\n",
       "      <th>budget</th>\n",
       "      <th>boxoffice</th>\n",
       "      <th>imdb_rating</th>\n",
       "      <th>duration_in_mins</th>\n",
       "      <th>metacritic_score</th>\n",
       "      <th>star_category</th>\n",
       "      <th>...</th>\n",
       "      <th>1916-1974</th>\n",
       "      <th>1974-1991</th>\n",
       "      <th>1991-2001</th>\n",
       "      <th>2001-2006</th>\n",
       "      <th>2006-2008</th>\n",
       "      <th>2008-2010</th>\n",
       "      <th>2010-2012</th>\n",
       "      <th>2012-2013</th>\n",
       "      <th>2013-2014</th>\n",
       "      <th>2014-2017</th>\n",
       "    </tr>\n",
       "    <tr>\n",
       "      <th>video_id</th>\n",
       "      <th></th>\n",
       "      <th></th>\n",
       "      <th></th>\n",
       "      <th></th>\n",
       "      <th></th>\n",
       "      <th></th>\n",
       "      <th></th>\n",
       "      <th></th>\n",
       "      <th></th>\n",
       "      <th></th>\n",
       "      <th></th>\n",
       "      <th></th>\n",
       "      <th></th>\n",
       "      <th></th>\n",
       "      <th></th>\n",
       "      <th></th>\n",
       "      <th></th>\n",
       "      <th></th>\n",
       "      <th></th>\n",
       "      <th></th>\n",
       "      <th></th>\n",
       "    </tr>\n",
       "  </thead>\n",
       "  <tbody>\n",
       "    <tr>\n",
       "      <th>385504</th>\n",
       "      <td>307127</td>\n",
       "      <td>-1.105826</td>\n",
       "      <td>-2.116264</td>\n",
       "      <td>1.997882</td>\n",
       "      <td>1.470049</td>\n",
       "      <td>4.864658</td>\n",
       "      <td>0.496610</td>\n",
       "      <td>1.087958</td>\n",
       "      <td>-0.762808</td>\n",
       "      <td>-0.846376</td>\n",
       "      <td>...</td>\n",
       "      <td>0</td>\n",
       "      <td>0</td>\n",
       "      <td>0</td>\n",
       "      <td>0</td>\n",
       "      <td>0</td>\n",
       "      <td>0</td>\n",
       "      <td>0</td>\n",
       "      <td>1</td>\n",
       "      <td>0</td>\n",
       "      <td>0</td>\n",
       "    </tr>\n",
       "    <tr>\n",
       "      <th>300175</th>\n",
       "      <td>270338</td>\n",
       "      <td>-1.105826</td>\n",
       "      <td>-2.116264</td>\n",
       "      <td>1.272491</td>\n",
       "      <td>1.470049</td>\n",
       "      <td>-0.816956</td>\n",
       "      <td>0.496610</td>\n",
       "      <td>0.234247</td>\n",
       "      <td>-2.125115</td>\n",
       "      <td>3.871129</td>\n",
       "      <td>...</td>\n",
       "      <td>0</td>\n",
       "      <td>0</td>\n",
       "      <td>0</td>\n",
       "      <td>0</td>\n",
       "      <td>0</td>\n",
       "      <td>0</td>\n",
       "      <td>0</td>\n",
       "      <td>1</td>\n",
       "      <td>0</td>\n",
       "      <td>0</td>\n",
       "    </tr>\n",
       "    <tr>\n",
       "      <th>361899</th>\n",
       "      <td>256165</td>\n",
       "      <td>-1.105826</td>\n",
       "      <td>-2.116264</td>\n",
       "      <td>6.050305</td>\n",
       "      <td>3.108277</td>\n",
       "      <td>4.071375</td>\n",
       "      <td>1.178307</td>\n",
       "      <td>1.230244</td>\n",
       "      <td>0.190807</td>\n",
       "      <td>1.512377</td>\n",
       "      <td>...</td>\n",
       "      <td>0</td>\n",
       "      <td>0</td>\n",
       "      <td>0</td>\n",
       "      <td>0</td>\n",
       "      <td>0</td>\n",
       "      <td>0</td>\n",
       "      <td>1</td>\n",
       "      <td>0</td>\n",
       "      <td>0</td>\n",
       "      <td>0</td>\n",
       "    </tr>\n",
       "    <tr>\n",
       "      <th>308314</th>\n",
       "      <td>196622</td>\n",
       "      <td>-0.779746</td>\n",
       "      <td>-2.031963</td>\n",
       "      <td>11.076745</td>\n",
       "      <td>1.470049</td>\n",
       "      <td>0.960665</td>\n",
       "      <td>1.178307</td>\n",
       "      <td>1.941670</td>\n",
       "      <td>5.095111</td>\n",
       "      <td>-0.846376</td>\n",
       "      <td>...</td>\n",
       "      <td>0</td>\n",
       "      <td>0</td>\n",
       "      <td>0</td>\n",
       "      <td>0</td>\n",
       "      <td>1</td>\n",
       "      <td>0</td>\n",
       "      <td>0</td>\n",
       "      <td>0</td>\n",
       "      <td>0</td>\n",
       "      <td>0</td>\n",
       "    </tr>\n",
       "    <tr>\n",
       "      <th>307201</th>\n",
       "      <td>159841</td>\n",
       "      <td>-1.105826</td>\n",
       "      <td>-2.116264</td>\n",
       "      <td>1.272966</td>\n",
       "      <td>3.289972</td>\n",
       "      <td>-0.064244</td>\n",
       "      <td>0.496610</td>\n",
       "      <td>0.755959</td>\n",
       "      <td>-2.670037</td>\n",
       "      <td>3.871129</td>\n",
       "      <td>...</td>\n",
       "      <td>0</td>\n",
       "      <td>0</td>\n",
       "      <td>0</td>\n",
       "      <td>0</td>\n",
       "      <td>0</td>\n",
       "      <td>0</td>\n",
       "      <td>0</td>\n",
       "      <td>1</td>\n",
       "      <td>0</td>\n",
       "      <td>0</td>\n",
       "    </tr>\n",
       "  </tbody>\n",
       "</table>\n",
       "<p>5 rows × 57 columns</p>\n",
       "</div>"
      ],
      "text/plain": [
       "          cvt_per_day  weighted_categorical_position  \\\n",
       "video_id                                               \n",
       "385504         307127                      -1.105826   \n",
       "300175         270338                      -1.105826   \n",
       "361899         256165                      -1.105826   \n",
       "308314         196622                      -0.779746   \n",
       "307201         159841                      -1.105826   \n",
       "\n",
       "          weighted_horizontal_poition  imdb_votes    budget  boxoffice  \\\n",
       "video_id                                                                 \n",
       "385504                      -2.116264    1.997882  1.470049   4.864658   \n",
       "300175                      -2.116264    1.272491  1.470049  -0.816956   \n",
       "361899                      -2.116264    6.050305  3.108277   4.071375   \n",
       "308314                      -2.031963   11.076745  1.470049   0.960665   \n",
       "307201                      -2.116264    1.272966  3.289972  -0.064244   \n",
       "\n",
       "          imdb_rating  duration_in_mins  metacritic_score  star_category  ...  \\\n",
       "video_id                                                                  ...   \n",
       "385504       0.496610          1.087958         -0.762808      -0.846376  ...   \n",
       "300175       0.496610          0.234247         -2.125115       3.871129  ...   \n",
       "361899       1.178307          1.230244          0.190807       1.512377  ...   \n",
       "308314       1.178307          1.941670          5.095111      -0.846376  ...   \n",
       "307201       0.496610          0.755959         -2.670037       3.871129  ...   \n",
       "\n",
       "          1916-1974  1974-1991  1991-2001  2001-2006  2006-2008  2008-2010  \\\n",
       "video_id                                                                     \n",
       "385504            0          0          0          0          0          0   \n",
       "300175            0          0          0          0          0          0   \n",
       "361899            0          0          0          0          0          0   \n",
       "308314            0          0          0          0          1          0   \n",
       "307201            0          0          0          0          0          0   \n",
       "\n",
       "          2010-2012  2012-2013  2013-2014  2014-2017  \n",
       "video_id                                              \n",
       "385504            0          1          0          0  \n",
       "300175            0          1          0          0  \n",
       "361899            1          0          0          0  \n",
       "308314            0          0          0          0  \n",
       "307201            0          1          0          0  \n",
       "\n",
       "[5 rows x 57 columns]"
      ]
     },
     "execution_count": 24,
     "metadata": {},
     "output_type": "execute_result"
    }
   ],
   "source": [
    "# feature scaling --> standard scaling\n",
    "scale_lst = ['weighted_categorical_position', 'weighted_horizontal_poition', 'budget','boxoffice', \n",
    "             'imdb_votes','imdb_rating','duration_in_mins', 'metacritic_score','star_category']\n",
    "newTV = TV.copy()\n",
    "\n",
    "sc_scale = StandardScaler().fit(newTV[scale_lst])\n",
    "newTV[scale_lst] = sc_scale.transform(newTV[scale_lst])\n",
    "\n",
    "# mm_scale = MinMaxScaler().fit(newTV[scale_lst])\n",
    "# newTV[scale_lst] = mm_scale.transform(newTV[scale_lst])\n",
    "newTV.head()"
   ]
  },
  {
   "cell_type": "markdown",
   "metadata": {},
   "source": [
    "## Model Training"
   ]
  },
  {
   "cell_type": "code",
   "execution_count": 50,
   "metadata": {},
   "outputs": [],
   "source": [
    "model_train, model_test = train_test_split(newTV, test_size=0.15, random_state = 3)\n",
    "model_train_x = model_train.drop(['cvt_per_day'], axis = 1)\n",
    "model_test_x = model_test.drop(['cvt_per_day'], axis = 1)\n",
    "model_train_y = model_train['cvt_per_day']\n",
    "model_test_y = model_test['cvt_per_day']"
   ]
  },
  {
   "cell_type": "code",
   "execution_count": 51,
   "metadata": {},
   "outputs": [],
   "source": [
    "y = model_train['cvt_per_day']\n",
    "X = model_train.drop(['cvt_per_day'], axis = 1)\n",
    "X_train, X_test, y_train, y_test = train_test_split(X, y, test_size = 0.15, random_state=0)"
   ]
  },
  {
   "cell_type": "markdown",
   "metadata": {},
   "source": [
    "### Lasso Linear Regression"
   ]
  },
  {
   "cell_type": "code",
   "execution_count": 52,
   "metadata": {},
   "outputs": [
    {
     "data": {
      "image/png": "[encoded data removed]",
      "text/plain": [
       "<Figure size 432x288 with 1 Axes>"
      ]
     },
     "metadata": {
      "needs_background": "light"
     },
     "output_type": "display_data"
    },
    {
     "name": "stdout",
     "output_type": "stream",
     "text": [
      "The optimaized alpha and score of Lasso linear is: \n"
     ]
    },
    {
     "data": {
      "text/plain": [
       "(None, 165.24213795080615, 0.3665110306198719)"
      ]
     },
     "execution_count": 52,
     "metadata": {},
     "output_type": "execute_result"
    }
   ],
   "source": [
    "alphas = np.logspace (-0.3, 2.5, num=150)\n",
    "scores = np.empty_like(alphas)\n",
    "opt_a = float('-inf')\n",
    "max_score = float('-inf')\n",
    "for i, a in enumerate(alphas):\n",
    "    lasso = Lasso()\n",
    "    lasso.set_params(alpha = a)\n",
    "    lasso.fit(X_train, y_train)\n",
    "    scores[i] = lasso.score(X_test, y_test)\n",
    "    if scores[i] > max_score:\n",
    "        max_score = scores[i]\n",
    "        opt_a = a\n",
    "        lasso_save = lasso\n",
    "plt.plot(alphas, scores, color='b', linestyle='dashed', marker='o',markerfacecolor='blue', markersize=6)\n",
    "plt.xlabel('alpha')\n",
    "plt.ylabel('score')\n",
    "plt.grid(True)\n",
    "plt.title('score vs. alpha')\n",
    "plt.show()\n",
    "print ('The optimaized alpha and score of Lasso linear is: '), opt_a, max_score"
   ]
  },
  {
   "cell_type": "code",
   "execution_count": 28,
   "metadata": {},
   "outputs": [
    {
     "data": {
      "text/plain": [
       "Lasso(alpha=165.24213795080615, copy_X=True, fit_intercept=True, max_iter=1000,\n",
       "      normalize=False, positive=False, precompute=False, random_state=None,\n",
       "      selection='cyclic', tol=0.0001, warm_start=False)"
      ]
     },
     "execution_count": 28,
     "metadata": {},
     "output_type": "execute_result"
    }
   ],
   "source": [
    "lasso_f = Lasso()\n",
    "lasso_f.set_params(alpha = opt_a)\n",
    "lasso_f.fit(model_train_x, model_train_y)"
   ]
  },
  {
   "cell_type": "markdown",
   "metadata": {},
   "source": [
    "### Lasso Linear Regression Polynomial-2"
   ]
  },
  {
   "cell_type": "code",
   "execution_count": 29,
   "metadata": {
    "scrolled": false
   },
   "outputs": [
    {
     "data": {
      "image/png": "[encoded data removed]",
      "text/plain": [
       "<Figure size 432x288 with 1 Axes>"
      ]
     },
     "metadata": {
      "needs_background": "light"
     },
     "output_type": "display_data"
    },
    {
     "name": "stdout",
     "output_type": "stream",
     "text": [
      "The optimaized alpha and score of Lasso polynomial is: \n"
     ]
    },
    {
     "data": {
      "text/plain": [
       "(None, 96.28182281933307, 0.6066586077441645)"
      ]
     },
     "execution_count": 29,
     "metadata": {},
     "output_type": "execute_result"
    }
   ],
   "source": [
    "poly = PolynomialFeatures(2)\n",
    "Xp_train= poly.fit_transform(X_train)\n",
    "Xp_test = poly.fit_transform(X_test)\n",
    "\n",
    "alphas = np.logspace (-2.6, 2.5, num=80)\n",
    "scores = np.empty_like(alphas)\n",
    "opt_a = float('-inf')\n",
    "max_score = float('-inf')\n",
    "for i, a in enumerate(alphas):\n",
    "    lasso = Lasso()\n",
    "    lasso.set_params(alpha = a)\n",
    "    lasso.fit(Xp_train, y_train)\n",
    "    scores[i] = lasso.score(Xp_test, y_test)\n",
    "    if scores[i] > max_score:\n",
    "        max_score = scores[i]\n",
    "        opt_a = a\n",
    "        lasso_save = lasso\n",
    "        \n",
    "plt.plot(alphas, scores, color='b', linestyle='dashed', marker='o',markerfacecolor='blue', markersize=6)\n",
    "plt.xlabel('alpha')\n",
    "plt.ylabel('score')\n",
    "plt.grid(True)\n",
    "plt.title('score vs. alpha')\n",
    "plt.show()\n",
    "print ('The optimaized alpha and score of Lasso polynomial is: '), opt_a, max_score"
   ]
  },
  {
   "cell_type": "code",
   "execution_count": 30,
   "metadata": {},
   "outputs": [
    {
     "data": {
      "text/plain": [
       "Lasso(alpha=96.28182281933307, copy_X=True, fit_intercept=True, max_iter=1000,\n",
       "      normalize=False, positive=False, precompute=False, random_state=None,\n",
       "      selection='cyclic', tol=0.0001, warm_start=False)"
      ]
     },
     "execution_count": 30,
     "metadata": {},
     "output_type": "execute_result"
    }
   ],
   "source": [
    "model_train_xp = poly.fit_transform(model_train_x)\n",
    "\n",
    "lasso_fp = Lasso()\n",
    "lasso_fp.set_params(alpha = opt_a)\n",
    "lasso_fp.fit(model_train_xp, model_train_y)"
   ]
  },
  {
   "cell_type": "markdown",
   "metadata": {},
   "source": [
    "### Ridge Linear Regression"
   ]
  },
  {
   "cell_type": "code",
   "execution_count": 31,
   "metadata": {},
   "outputs": [
    {
     "data": {
      "image/png": "[encoded data removed]",
      "text/plain": [
       "<Figure size 432x288 with 1 Axes>"
      ]
     },
     "metadata": {
      "needs_background": "light"
     },
     "output_type": "display_data"
    },
    {
     "name": "stdout",
     "output_type": "stream",
     "text": [
      "The optimaized alpha and score of Lasso linear is: \n"
     ]
    },
    {
     "data": {
      "text/plain": [
       "(None, 163.97026580002054, 0.3516388133213527)"
      ]
     },
     "execution_count": 31,
     "metadata": {},
     "output_type": "execute_result"
    }
   ],
   "source": [
    "alphas = np.logspace (-10, 3, num=150)\n",
    "scores = np.empty_like(alphas)\n",
    "opt_a = float('-inf')\n",
    "max_score = float('-inf')\n",
    "for i, a in enumerate(alphas):\n",
    "    ridge = Ridge()\n",
    "    ridge.set_params(alpha = a)\n",
    "    ridge.fit(X_train, y_train)\n",
    "    scores[i] = ridge.score(X_test, y_test)\n",
    "    if scores[i] > max_score:\n",
    "        max_score = scores[i]\n",
    "        opt_a = a\n",
    "        ridge_save = ridge\n",
    "plt.plot(alphas, scores, color='b', linestyle='dashed', marker='o',markerfacecolor='blue', markersize=6)\n",
    "plt.xlabel('alpha')\n",
    "plt.ylabel('score')\n",
    "plt.grid(True)\n",
    "plt.title('score vs. alpha')\n",
    "plt.show()\n",
    "print ('The optimaized alpha and score of Lasso linear is: '), opt_a, max_score"
   ]
  },
  {
   "cell_type": "code",
   "execution_count": 32,
   "metadata": {},
   "outputs": [
    {
     "data": {
      "text/plain": [
       "Ridge(alpha=163.97026580002054, copy_X=True, fit_intercept=True, max_iter=None,\n",
       "      normalize=False, random_state=None, solver='auto', tol=0.001)"
      ]
     },
     "execution_count": 32,
     "metadata": {},
     "output_type": "execute_result"
    }
   ],
   "source": [
    "ridge_f = Ridge()\n",
    "ridge_f.set_params(alpha = opt_a)\n",
    "ridge_f.fit(model_train_x, model_train_y)"
   ]
  },
  {
   "cell_type": "code",
   "execution_count": 33,
   "metadata": {},
   "outputs": [
    {
     "data": {
      "image/png": "[encoded data removed]",
      "text/plain": [
       "<Figure size 432x288 with 1 Axes>"
      ]
     },
     "metadata": {
      "needs_background": "light"
     },
     "output_type": "display_data"
    },
    {
     "name": "stdout",
     "output_type": "stream",
     "text": [
      "The optimaized alpha and score of Lasso polynomial is: \n"
     ]
    },
    {
     "data": {
      "text/plain": [
       "(None, 14.38449888287663, 0.48709623086531517)"
      ]
     },
     "execution_count": 33,
     "metadata": {},
     "output_type": "execute_result"
    }
   ],
   "source": [
    "alphas = np.logspace (-2, 2, num=20)\n",
    "scores = np.empty_like(alphas)\n",
    "opt_a = float('-inf')\n",
    "max_score = float('-inf')\n",
    "for i, a in enumerate(alphas):\n",
    "    ridge = Ridge()\n",
    "    ridge.set_params(alpha = a)\n",
    "    ridge.fit(Xp_train, y_train)\n",
    "    scores[i] = ridge.score(Xp_test, y_test)\n",
    "    if scores[i] > max_score:\n",
    "        max_score = scores[i]\n",
    "        opt_a = a\n",
    "        ridge_save = ridge\n",
    "        \n",
    "plt.plot(alphas, scores, color='b', linestyle='dashed', marker='o',markerfacecolor='blue', markersize=6)\n",
    "plt.xlabel('alpha')\n",
    "plt.ylabel('score')\n",
    "plt.grid(True)\n",
    "plt.title('score vs. alpha')\n",
    "plt.show()\n",
    "print ('The optimaized alpha and score of Lasso polynomial is: '), opt_a, max_score"
   ]
  },
  {
   "cell_type": "markdown",
   "metadata": {},
   "source": [
    "### Random Forest"
   ]
  },
  {
   "cell_type": "code",
   "execution_count": 34,
   "metadata": {},
   "outputs": [
    {
     "data": {
      "text/plain": [
       "GridSearchCV(cv=5, error_score='raise-deprecating',\n",
       "             estimator=RandomForestRegressor(bootstrap=True, criterion='mse',\n",
       "                                             max_depth=None,\n",
       "                                             max_features='sqrt',\n",
       "                                             max_leaf_nodes=None,\n",
       "                                             min_impurity_decrease=0.0,\n",
       "                                             min_impurity_split=None,\n",
       "                                             min_samples_leaf=1,\n",
       "                                             min_samples_split=2,\n",
       "                                             min_weight_fraction_leaf=0.0,\n",
       "                                             n_estimators='warn', n_jobs=-1,\n",
       "                                             oob_score=False, random_state=2,\n",
       "                                             verbose=0, warm_start=False),\n",
       "             iid='warn', n_jobs=-1,\n",
       "             param_grid={'max_depth': [15, 16, 17, 18, 19, 20, 21],\n",
       "                         'n_estimators': [55, 56, 57, 58, 59, 60, 61, 62, 63,\n",
       "                                          64, 65]},\n",
       "             pre_dispatch='2*n_jobs', refit=True, return_train_score=False,\n",
       "             scoring=None, verbose=0)"
      ]
     },
     "execution_count": 34,
     "metadata": {},
     "output_type": "execute_result"
    }
   ],
   "source": [
    "rf = RandomForestRegressor(random_state=2, max_features='sqrt', n_jobs=-1)\n",
    "param_grid = {'n_estimators':[55,56,57,58,59,60,61,62,63,64,65],'max_depth':[15,16,17,18,19,20,21]}\n",
    "clf = GridSearchCV(estimator = rf,param_grid = param_grid,cv = 5,refit = True,n_jobs = -1,pre_dispatch = '2*n_jobs')\n",
    "clf.fit(X_train, y_train)"
   ]
  },
  {
   "cell_type": "code",
   "execution_count": 35,
   "metadata": {
    "scrolled": true
   },
   "outputs": [
    {
     "data": {
      "image/png": "[encoded data removed]",
      "text/plain": [
       "<Figure size 432x288 with 1 Axes>"
      ]
     },
     "metadata": {
      "needs_background": "light"
     },
     "output_type": "display_data"
    },
    {
     "name": "stdout",
     "output_type": "stream",
     "text": [
      "the best parameter for max_depth is: 21\n",
      "the best parameter for n_estimators is: 61\n"
     ]
    }
   ],
   "source": [
    "max_depth = [15,16,17,18,19,20,21]\n",
    "n_estimators = [55,56,57,58,59,60,61,62,63,64,65]\n",
    "scores = clf.cv_results_['mean_test_score'].reshape(len(max_depth),len(n_estimators))\n",
    "plt.figure(1)\n",
    "plt.subplot(1,1,1)\n",
    "for i,j in enumerate(max_depth):\n",
    "    plt.plot(n_estimators, scores[i], '-o', label='max_depths is: '+str(j))\n",
    "plt.legend(bbox_to_anchor=(1.05, 1), loc='upper left', borderaxespad=0.)\n",
    "plt.xlabel('mean_test_score')\n",
    "plt.ylabel('n_estimators')\n",
    "plt.show()\n",
    "print('the best parameter for max_depth is: '+str(clf.best_params_['max_depth']))\n",
    "print('the best parameter for n_estimators is: '+str(clf.best_params_['n_estimators']))\n"
   ]
  },
  {
   "cell_type": "markdown",
   "metadata": {},
   "source": [
    "## Feature importance"
   ]
  },
  {
   "cell_type": "code",
   "execution_count": 39,
   "metadata": {
    "scrolled": false
   },
   "outputs": [
    {
     "data": {
      "image/png": "[encoded data removed]",
      "text/plain": [
       "<Figure size 432x288 with 1 Axes>"
      ]
     },
     "metadata": {
      "needs_background": "light"
     },
     "output_type": "display_data"
    }
   ],
   "source": [
    "rf_f = RandomForestRegressor(max_depth = 21, n_estimators = 61, max_features='sqrt',random_state=2,n_jobs=-1)\n",
    "rf_f.fit(model_train_x, model_train_y)\n",
    "importances = rf_f.feature_importances_\n",
    "feature_name = X_train.columns.get_values()\n",
    "indices = np.argsort(importances)[::-1]\n",
    "plt.figure(1)\n",
    "plt.bar(feature_name[indices[:20]], importances[indices[:20]])\n",
    "plt.title('feature importance')\n",
    "plt.xticks(rotation=90)\n",
    "plt.show()"
   ]
  },
  {
   "cell_type": "code",
   "execution_count": 37,
   "metadata": {},
   "outputs": [],
   "source": [
    "# the most important three features are: \n",
    "# weighted_categorical_position, imdb_votes, weighted_horizontal_position"
   ]
  },
  {
   "cell_type": "code",
   "execution_count": null,
   "metadata": {},
   "outputs": [],
   "source": []
  }
 ],
 "metadata": {
  "kernelspec": {
   "display_name": "Python 3",
   "language": "python",
   "name": "python3"
  },
  "language_info": {
   "codemirror_mode": {
    "name": "ipython",
    "version": 3
   },
   "file_extension": ".py",
   "mimetype": "text/x-python",
   "name": "python",
   "nbconvert_exporter": "python",
   "pygments_lexer": "ipython3",
   "version": "3.7.3"
  }
 },
 "nbformat": 4,
 "nbformat_minor": 2
}
